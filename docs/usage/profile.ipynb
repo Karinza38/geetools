{
 "cells": [
  {
   "cell_type": "markdown",
   "metadata": {},
   "source": [
    "# Profile Earth Engine computation\n",
    "\n",
    "The Earth Engine API provides tools for profiling the performance of your computations but they are not always the easiest to use to get the number you are looking for. The `geetools` library supercharge the original profiler to make any computation evaluation the easiest possible."
   ]
  },
  {
   "cell_type": "markdown",
   "metadata": {},
   "source": [
    "[![github](https://img.shields.io/badge/-see%20sources-white?logo=github&labelColor=555)](https://github.com/gee-community/geetools/blob/main/docs/usage/profile.ipynb)\n",
    "[![colab](https://img.shields.io/badge/-open%20in%20colab-blue?logo=googlecolab&labelColor=555)](https://colab.research.google.com/github/gee-community/geetools/blob/main/docs/usage/profile.ipynb)"
   ]
  },
  {
   "cell_type": "code",
   "execution_count": 1,
   "metadata": {
    "tags": [
     "remove-input"
    ]
   },
   "outputs": [],
   "source": [
    "import ee, pytest_gee, os\n",
    "\n",
    "if \"EARTHENGINE_SERVICE_ACCOUNT\" in os.environ:\n",
    "    pytest_gee.init_ee_from_service_account()\n",
    "elif \"EARTHENGINE_PROJECT\" in os.environ:\n",
    "    pytest_gee.init_ee_from_token()\n",
    "else:\n",
    "    raise ValueError(\"Cannot authenticate with Earth Engine.\")"
   ]
  },
  {
   "cell_type": "markdown",
   "metadata": {},
   "source": [
    "## Set up environment\n",
    "\n",
    "Install all the requireed libs if necessary. and perform the import satements upstream."
   ]
  },
  {
   "cell_type": "code",
   "execution_count": 2,
   "metadata": {},
   "outputs": [],
   "source": [
    "# uncomment if installation of libs is necessary\n",
    "# !pip install earthengine-api geetools"
   ]
  },
  {
   "cell_type": "code",
   "execution_count": 3,
   "metadata": {},
   "outputs": [],
   "source": [
    "import ee\n",
    "import geetools\n",
    "import pandas as pd"
   ]
  },
  {
   "cell_type": "code",
   "execution_count": 4,
   "metadata": {},
   "outputs": [],
   "source": [
    "# uncomment if authetication to GEE is needed\n",
    "# ee.Authenticate()\n",
    "# ee.Intialize(project=\"<your_project>\")"
   ]
  },
  {
   "cell_type": "markdown",
   "metadata": {},
   "source": [
    "## Example data\n",
    "\n",
    "The following examples rely on a `ee.FeatureCollection` composed of three ecoregion features that define regions by which to reduce image data. The Image data are PRISM climate normals, where bands describe climate variables per month; e.g., July precipitation or January mean temperature.\n"
   ]
  },
  {
   "cell_type": "code",
   "execution_count": 5,
   "metadata": {},
   "outputs": [],
   "source": [
    "ecoregions = (\n",
    "    ee.FeatureCollection(\"projects/google/charts_feature_example\")\n",
    "    .select([\"label\", \"value\",\"warm\"])\n",
    ")\n",
    "\n",
    "normClim = ee.ImageCollection('OREGONSTATE/PRISM/Norm91m').toBands()"
   ]
  },
  {
   "cell_type": "markdown",
   "metadata": {},
   "source": [
    "## default profiler \n",
    "\n",
    "The default profiler from Earth Engine can be called as a context manager, it will print at the end of the cell the extensive description of your computation. "
   ]
  },
  {
   "cell_type": "code",
   "execution_count": 6,
   "metadata": {},
   "outputs": [
    {
     "name": "stderr",
     "output_type": "stream",
     "text": [
      " EECU·s PeakMem Count  Description\n",
      "  0.258     59k     6  Algorithm Image.reduceRegions\n",
      "  0.216    654k    87  Loading assets: projects/google/charts_feature_example\n",
      "  0.126    345k   831  (plumbing)\n",
      "  0.023    596k    86  no description available\n",
      "  0.013    202k    11  Loading assets: OREGONSTATE/PRISM/Norm91m/07@1662732032798195\n",
      "  0.009    211k    11  Loading assets: OREGONSTATE/PRISM/Norm91m/05@1662731334196830\n",
      "  0.009    198k    11  Loading assets: OREGONSTATE/PRISM/Norm91m/01@1662731626359925\n",
      "  0.009    209k    11  Loading assets: OREGONSTATE/PRISM/Norm91m/06@1662731651724226\n",
      "  0.009    112k    11  Loading assets: OREGONSTATE/PRISM/Norm91m/03@1662731338127317\n",
      "  0.009    109k    11  Loading assets: OREGONSTATE/PRISM/Norm91m/10@1662731228874571\n",
      "  0.008    200k    11  Loading assets: OREGONSTATE/PRISM/Norm91m/08@1662731245955723\n",
      "  0.008    212k    11  Loading assets: OREGONSTATE/PRISM/Norm91m/04@1662730567169297\n",
      "  0.008    198k    11  Loading assets: OREGONSTATE/PRISM/Norm91m/12@1662731114457874\n",
      "  0.008    106k    11  Loading assets: OREGONSTATE/PRISM/Norm91m/11@1662731554688435\n",
      "  0.008    199k    11  Loading assets: OREGONSTATE/PRISM/Norm91m/09@1662730604988590\n",
      "  0.007    205k    11  Loading assets: OREGONSTATE/PRISM/Norm91m/02@1662731486284455\n",
      "  0.005     352    72  Reprojecting pixels from GEOGCS[\"GCS_North_American_1983\",DATUM[\"North_American_Datum_1983\",SPHEROID[...] to GEOGCS[\"GCS_North_American_1983\",DATUM[\"North_American_Datum_1983\",SPHEROID[...]\n",
      "  0.002    9.7k    15  Algorithm ImageCollection.toBands\n",
      "  0.001    3.2k    13  Algorithm Collection.reduceColumns with reducer Reducer.toList\n",
      "  0.001    3.9k    15  Algorithm Image.select\n",
      "  0.001    5.8k    15  Algorithm Image.rename\n",
      "  0.001    3.1k    14  Algorithm ReduceRegions.AggregationContainer\n",
      "  0.000     61k    51  Loading assets: OREGONSTATE/PRISM/Norm91m\n",
      "  0.000     448     3  Listing collection\n",
      "  0.000    112k     3  Computing image mask from geometry\n",
      "   -        90k    26  Algorithm Collection.reduceColumns\n",
      "   -        45k    19  Algorithm List.map\n",
      "   -        30k     5  Loading assets: OREGONSTATE/PRISM/Norm91m/12\n",
      "   -        30k     5  Loading assets: OREGONSTATE/PRISM/Norm91m/11\n",
      "   -        30k     5  Loading assets: OREGONSTATE/PRISM/Norm91m/10\n",
      "   -        30k     5  Loading assets: OREGONSTATE/PRISM/Norm91m/09\n",
      "   -        30k     5  Loading assets: OREGONSTATE/PRISM/Norm91m/08\n",
      "   -        30k     5  Loading assets: OREGONSTATE/PRISM/Norm91m/07\n",
      "   -        30k     5  Loading assets: OREGONSTATE/PRISM/Norm91m/06\n",
      "   -        30k     5  Loading assets: OREGONSTATE/PRISM/Norm91m/05\n",
      "   -        30k     5  Loading assets: OREGONSTATE/PRISM/Norm91m/04\n",
      "   -        30k     5  Loading assets: OREGONSTATE/PRISM/Norm91m/03\n",
      "   -        30k     5  Loading assets: OREGONSTATE/PRISM/Norm91m/02\n",
      "   -        30k     5  Loading assets: OREGONSTATE/PRISM/Norm91m/01\n",
      "   -        23k    40  Algorithm AggregateFeatureCollection.array\n",
      "   -        11k    15  Algorithm Collection.loadTable\n",
      "   -        10k    15  Algorithm ImageCollection.load\n",
      "   -       8.6k     4  Algorithm Projection\n",
      "   -       8.5k     1  Algorithm (user-defined function)\n",
      "   -       6.9k     4  Algorithm ReduceRegions.ReduceRegionsEnumerator\n",
      "   -       5.3k    15  Algorithm Collection.map\n",
      "   -       3.6k    14  Algorithm Dictionary.fromLists\n",
      "   -       3.4k    14  Algorithm Feature.select\n",
      "   -       3.3k    10  Algorithm If\n",
      "   -       3.2k    10  Algorithm Number.eq\n",
      "   -       3.2k     4  Algorithm Reducer.forEach\n",
      "   -       3.1k     4  Algorithm String.compareTo\n",
      "   -       3.1k    37  Algorithm String\n",
      "   -       3.1k    10  Algorithm ObjectType\n",
      "   -       2.9k    20  Loading assets: OREGONSTATE/PRISM\n",
      "   -       2.8k    20  Loading assets: projects/google\n",
      "   -       1.9k     1  Algorithm Number.format\n",
      "   -        600     5  Algorithm Reducer.mean\n",
      "   -        432     7  Expression evaluation\n",
      "   -        288    72  Algorithm Image.load computing pixels\n"
     ]
    }
   ],
   "source": [
    "with ee.profilePrinting():\n",
    "    normClim.geetools.byBands(\n",
    "        regions = ecoregions,\n",
    "        reducer = \"mean\",\n",
    "        scale = 500,\n",
    "        regionId = \"label\",\n",
    "        bands = [f\"{i:02d}_tmean\" for i in range(1,13)],\n",
    "    ).getInfo()"
   ]
  },
  {
   "cell_type": "markdown",
   "metadata": {},
   "source": [
    "This result is extremely useful but cannot be further explored in the notebook."
   ]
  },
  {
   "cell_type": "markdown",
   "metadata": {},
   "source": [
    "## geetools profiler\n",
    "\n",
    "The `geetools` profiler is a context manager object that fill a dictionary member (`profile`) with the content of the string profile. This dictionary can be transformed into a table easily."
   ]
  },
  {
   "cell_type": "code",
   "execution_count": 7,
   "metadata": {},
   "outputs": [
    {
     "data": {
      "text/plain": [
       "{'EECU-s': [0.0, None],\n",
       " 'PeakMem': [4720, 3200],\n",
       " 'Count': [3, 3],\n",
       " 'Description': ['(plumbing)', 'Algorithm Number.add']}"
      ]
     },
     "execution_count": 7,
     "metadata": {},
     "output_type": "execute_result"
    }
   ],
   "source": [
    "# example with a simple function\n",
    "with ee.Profiler() as p:\n",
    "    ee.Number(3.14).add(0.00159).getInfo()\n",
    "p.profile"
   ]
  },
  {
   "cell_type": "markdown",
   "metadata": {},
   "source": [
    "With a bigger method we can valorized the results as a pandas dataframe and extract key informations."
   ]
  },
  {
   "cell_type": "code",
   "execution_count": 8,
   "metadata": {},
   "outputs": [
    {
     "data": {
      "text/html": [
       "<div>\n",
       "<style scoped>\n",
       "    .dataframe tbody tr th:only-of-type {\n",
       "        vertical-align: middle;\n",
       "    }\n",
       "\n",
       "    .dataframe tbody tr th {\n",
       "        vertical-align: top;\n",
       "    }\n",
       "\n",
       "    .dataframe thead th {\n",
       "        text-align: right;\n",
       "    }\n",
       "</style>\n",
       "<table border=\"1\" class=\"dataframe\">\n",
       "  <thead>\n",
       "    <tr style=\"text-align: right;\">\n",
       "      <th></th>\n",
       "      <th>EECU-s</th>\n",
       "      <th>PeakMem</th>\n",
       "      <th>Count</th>\n",
       "      <th>Description</th>\n",
       "    </tr>\n",
       "  </thead>\n",
       "  <tbody>\n",
       "    <tr>\n",
       "      <th>0</th>\n",
       "      <td>0.219</td>\n",
       "      <td>654000</td>\n",
       "      <td>87</td>\n",
       "      <td>Loading assets: projects/google/charts_feature...</td>\n",
       "    </tr>\n",
       "    <tr>\n",
       "      <th>1</th>\n",
       "      <td>0.192</td>\n",
       "      <td>59000</td>\n",
       "      <td>6</td>\n",
       "      <td>Algorithm Image.reduceRegions</td>\n",
       "    </tr>\n",
       "    <tr>\n",
       "      <th>2</th>\n",
       "      <td>0.125</td>\n",
       "      <td>363000</td>\n",
       "      <td>831</td>\n",
       "      <td>(plumbing)</td>\n",
       "    </tr>\n",
       "    <tr>\n",
       "      <th>3</th>\n",
       "      <td>0.021</td>\n",
       "      <td>607000</td>\n",
       "      <td>86</td>\n",
       "      <td>no description available</td>\n",
       "    </tr>\n",
       "    <tr>\n",
       "      <th>4</th>\n",
       "      <td>0.009</td>\n",
       "      <td>199000</td>\n",
       "      <td>11</td>\n",
       "      <td>Loading assets: OREGONSTATE/PRISM/Norm91m/09@1...</td>\n",
       "    </tr>\n",
       "  </tbody>\n",
       "</table>\n",
       "</div>"
      ],
      "text/plain": [
       "   EECU-s  PeakMem  Count                                        Description\n",
       "0   0.219   654000     87  Loading assets: projects/google/charts_feature...\n",
       "1   0.192    59000      6                      Algorithm Image.reduceRegions\n",
       "2   0.125   363000    831                                         (plumbing)\n",
       "3   0.021   607000     86                           no description available\n",
       "4   0.009   199000     11  Loading assets: OREGONSTATE/PRISM/Norm91m/09@1..."
      ]
     },
     "execution_count": 8,
     "metadata": {},
     "output_type": "execute_result"
    }
   ],
   "source": [
    "with ee.Profiler() as p:\n",
    "    normClim.geetools.byBands(\n",
    "        regions = ecoregions,\n",
    "        reducer = \"mean\",\n",
    "        scale = 500,\n",
    "        regionId = \"label\",\n",
    "        bands = [f\"{i:02d}_tmean\" for i in range(1,13)],\n",
    "    ).getInfo()\n",
    "df = pd.DataFrame(p.profile)\n",
    "df.head()"
   ]
  },
  {
   "cell_type": "code",
   "execution_count": 9,
   "metadata": {},
   "outputs": [
    {
     "ename": "KeyError",
     "evalue": "'EECU·s'",
     "output_type": "error",
     "traceback": [
      "\u001b[0;31m---------------------------------------------------------------------------\u001b[0m",
      "\u001b[0;31mKeyError\u001b[0m                                  Traceback (most recent call last)",
      "File \u001b[0;32m~/miniconda3/envs/geetools/lib/python3.11/site-packages/pandas/core/indexes/base.py:3805\u001b[0m, in \u001b[0;36mIndex.get_loc\u001b[0;34m(self, key)\u001b[0m\n\u001b[1;32m   3804\u001b[0m \u001b[38;5;28;01mtry\u001b[39;00m:\n\u001b[0;32m-> 3805\u001b[0m     \u001b[38;5;28;01mreturn\u001b[39;00m \u001b[38;5;28;43mself\u001b[39;49m\u001b[38;5;241;43m.\u001b[39;49m\u001b[43m_engine\u001b[49m\u001b[38;5;241;43m.\u001b[39;49m\u001b[43mget_loc\u001b[49m\u001b[43m(\u001b[49m\u001b[43mcasted_key\u001b[49m\u001b[43m)\u001b[49m\n\u001b[1;32m   3806\u001b[0m \u001b[38;5;28;01mexcept\u001b[39;00m \u001b[38;5;167;01mKeyError\u001b[39;00m \u001b[38;5;28;01mas\u001b[39;00m err:\n",
      "File \u001b[0;32mindex.pyx:167\u001b[0m, in \u001b[0;36mpandas._libs.index.IndexEngine.get_loc\u001b[0;34m()\u001b[0m\n",
      "File \u001b[0;32mindex.pyx:196\u001b[0m, in \u001b[0;36mpandas._libs.index.IndexEngine.get_loc\u001b[0;34m()\u001b[0m\n",
      "File \u001b[0;32mpandas/_libs/hashtable_class_helper.pxi:7081\u001b[0m, in \u001b[0;36mpandas._libs.hashtable.PyObjectHashTable.get_item\u001b[0;34m()\u001b[0m\n",
      "File \u001b[0;32mpandas/_libs/hashtable_class_helper.pxi:7089\u001b[0m, in \u001b[0;36mpandas._libs.hashtable.PyObjectHashTable.get_item\u001b[0;34m()\u001b[0m\n",
      "\u001b[0;31mKeyError\u001b[0m: 'EECU·s'",
      "\nThe above exception was the direct cause of the following exception:\n",
      "\u001b[0;31mKeyError\u001b[0m                                  Traceback (most recent call last)",
      "Cell \u001b[0;32mIn[9], line 2\u001b[0m\n\u001b[1;32m      1\u001b[0m \u001b[38;5;66;03m# total EECU cost of the computation\u001b[39;00m\n\u001b[0;32m----> 2\u001b[0m \u001b[38;5;28mfloat\u001b[39m(\u001b[43mdf\u001b[49m\u001b[43m[\u001b[49m\u001b[38;5;124;43m\"\u001b[39;49m\u001b[38;5;124;43mEECU·s\u001b[39;49m\u001b[38;5;124;43m\"\u001b[39;49m\u001b[43m]\u001b[49m\u001b[38;5;241m.\u001b[39msum())\n",
      "File \u001b[0;32m~/miniconda3/envs/geetools/lib/python3.11/site-packages/pandas/core/frame.py:4102\u001b[0m, in \u001b[0;36mDataFrame.__getitem__\u001b[0;34m(self, key)\u001b[0m\n\u001b[1;32m   4100\u001b[0m \u001b[38;5;28;01mif\u001b[39;00m \u001b[38;5;28mself\u001b[39m\u001b[38;5;241m.\u001b[39mcolumns\u001b[38;5;241m.\u001b[39mnlevels \u001b[38;5;241m>\u001b[39m \u001b[38;5;241m1\u001b[39m:\n\u001b[1;32m   4101\u001b[0m     \u001b[38;5;28;01mreturn\u001b[39;00m \u001b[38;5;28mself\u001b[39m\u001b[38;5;241m.\u001b[39m_getitem_multilevel(key)\n\u001b[0;32m-> 4102\u001b[0m indexer \u001b[38;5;241m=\u001b[39m \u001b[38;5;28;43mself\u001b[39;49m\u001b[38;5;241;43m.\u001b[39;49m\u001b[43mcolumns\u001b[49m\u001b[38;5;241;43m.\u001b[39;49m\u001b[43mget_loc\u001b[49m\u001b[43m(\u001b[49m\u001b[43mkey\u001b[49m\u001b[43m)\u001b[49m\n\u001b[1;32m   4103\u001b[0m \u001b[38;5;28;01mif\u001b[39;00m is_integer(indexer):\n\u001b[1;32m   4104\u001b[0m     indexer \u001b[38;5;241m=\u001b[39m [indexer]\n",
      "File \u001b[0;32m~/miniconda3/envs/geetools/lib/python3.11/site-packages/pandas/core/indexes/base.py:3812\u001b[0m, in \u001b[0;36mIndex.get_loc\u001b[0;34m(self, key)\u001b[0m\n\u001b[1;32m   3807\u001b[0m     \u001b[38;5;28;01mif\u001b[39;00m \u001b[38;5;28misinstance\u001b[39m(casted_key, \u001b[38;5;28mslice\u001b[39m) \u001b[38;5;129;01mor\u001b[39;00m (\n\u001b[1;32m   3808\u001b[0m         \u001b[38;5;28misinstance\u001b[39m(casted_key, abc\u001b[38;5;241m.\u001b[39mIterable)\n\u001b[1;32m   3809\u001b[0m         \u001b[38;5;129;01mand\u001b[39;00m \u001b[38;5;28many\u001b[39m(\u001b[38;5;28misinstance\u001b[39m(x, \u001b[38;5;28mslice\u001b[39m) \u001b[38;5;28;01mfor\u001b[39;00m x \u001b[38;5;129;01min\u001b[39;00m casted_key)\n\u001b[1;32m   3810\u001b[0m     ):\n\u001b[1;32m   3811\u001b[0m         \u001b[38;5;28;01mraise\u001b[39;00m InvalidIndexError(key)\n\u001b[0;32m-> 3812\u001b[0m     \u001b[38;5;28;01mraise\u001b[39;00m \u001b[38;5;167;01mKeyError\u001b[39;00m(key) \u001b[38;5;28;01mfrom\u001b[39;00m \u001b[38;5;21;01merr\u001b[39;00m\n\u001b[1;32m   3813\u001b[0m \u001b[38;5;28;01mexcept\u001b[39;00m \u001b[38;5;167;01mTypeError\u001b[39;00m:\n\u001b[1;32m   3814\u001b[0m     \u001b[38;5;66;03m# If we have a listlike key, _check_indexing_error will raise\u001b[39;00m\n\u001b[1;32m   3815\u001b[0m     \u001b[38;5;66;03m#  InvalidIndexError. Otherwise we fall through and re-raise\u001b[39;00m\n\u001b[1;32m   3816\u001b[0m     \u001b[38;5;66;03m#  the TypeError.\u001b[39;00m\n\u001b[1;32m   3817\u001b[0m     \u001b[38;5;28mself\u001b[39m\u001b[38;5;241m.\u001b[39m_check_indexing_error(key)\n",
      "\u001b[0;31mKeyError\u001b[0m: 'EECU·s'"
     ]
    }
   ],
   "source": [
    "# total EECU cost of the computation\n",
    "float(df[\"EECU-s\"].sum())"
   ]
  },
  {
   "cell_type": "code",
   "execution_count": null,
   "metadata": {},
   "outputs": [],
   "source": []
  }
 ],
 "metadata": {
  "kernelspec": {
   "display_name": "geetools",
   "language": "python",
   "name": "python3"
  },
  "language_info": {
   "codemirror_mode": {
    "name": "ipython",
    "version": 3
   },
   "file_extension": ".py",
   "mimetype": "text/x-python",
   "name": "python",
   "nbconvert_exporter": "python",
   "pygments_lexer": "ipython3",
   "version": "3.11.9"
  }
 },
 "nbformat": 4,
 "nbformat_minor": 2
}
